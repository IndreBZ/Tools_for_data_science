{
  "metadata": {
    "language_info": {
      "codemirror_mode": {
        "name": "python",
        "version": 3
      },
      "file_extension": ".py",
      "mimetype": "text/x-python",
      "name": "python",
      "nbconvert_exporter": "python",
      "pygments_lexer": "ipython3",
      "version": "3.8"
    },
    "kernelspec": {
      "name": "python",
      "display_name": "Python (Pyodide)",
      "language": "python"
    }
  },
  "nbformat_minor": 4,
  "nbformat": 4,
  "cells": [
    {
      "cell_type": "markdown",
      "source": "# Data Science Tools and Ecosystem",
      "metadata": {}
    },
    {
      "cell_type": "code",
      "source": "# In this notebook, Data Science Tools and Ecosystem are summarized.",
      "metadata": {
        "tags": []
      },
      "execution_count": null,
      "outputs": []
    },
    {
      "cell_type": "markdown",
      "source": "# Exercise4\n# Some of the popular languages that Data Scientists use are:\n\n1. Python \n2. R \n3. SQL ",
      "metadata": {}
    },
    {
      "cell_type": "code",
      "source": "# Exercise5\n# Some of the commonly used libraries used by Data Scientists include:\n\n1. Matplotlib \n2. Pandas \n3. TensorFlow \n4. Scikit-learn\n5. ggplot2\n6. NumPy",
      "metadata": {},
      "execution_count": null,
      "outputs": []
    },
    {
      "cell_type": "code",
      "source": "# Exercise6\n|Data Science Tools|\n-------------------\n|Python|\n|TensorFlow|\n|Apache Spark|\n\n",
      "metadata": {},
      "execution_count": null,
      "outputs": []
    },
    {
      "cell_type": "markdown",
      "source": "# Exercise7\n# H3 Below are a few examples of evaluating arithmetic expressions in Python",
      "metadata": {}
    },
    {
      "cell_type": "code",
      "source": "# Exercise8\n## This a simple arithmetic expression to mutiply then add integers\n(3*4)+5",
      "metadata": {
        "trusted": true
      },
      "execution_count": 2,
      "outputs": [
        {
          "execution_count": 2,
          "output_type": "execute_result",
          "data": {
            "text/plain": "17"
          },
          "metadata": {}
        }
      ]
    },
    {
      "cell_type": "code",
      "source": "# Exercise9\n## This will convert 200 minutes to hours by diving by 60\nhours=200/60\nprint(hours)\n",
      "metadata": {
        "trusted": true
      },
      "execution_count": 4,
      "outputs": [
        {
          "name": "stdout",
          "text": "3.3333333333333335\n",
          "output_type": "stream"
        }
      ]
    },
    {
      "cell_type": "markdown",
      "source": "# Exercise10\n# In this notebook, Data Science Tools and Ecosystem are summarized.\n**Objectives:**\n* Data tools for data scine\n* Popular languages for Data Science\n* Introduction to Python\n* Introduction to RStudio\n* Basics with Git and GitHub\n",
      "metadata": {}
    },
    {
      "cell_type": "markdown",
      "source": "## Author\nIndre Balyte-Zyke",
      "metadata": {}
    },
    {
      "cell_type": "code",
      "source": "",
      "metadata": {},
      "execution_count": null,
      "outputs": []
    }
  ]
}